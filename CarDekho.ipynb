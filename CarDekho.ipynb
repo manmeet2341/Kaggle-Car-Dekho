{
 "cells": [
  {
   "cell_type": "markdown",
   "id": "7fd3caae",
   "metadata": {},
   "source": [
    "# CarDekho dataset"
   ]
  },
  {
   "cell_type": "markdown",
   "id": "37ba671c",
   "metadata": {},
   "source": [
    "## Importing required libraries"
   ]
  },
  {
   "cell_type": "code",
   "execution_count": 1,
   "id": "b5ba7b2a",
   "metadata": {},
   "outputs": [],
   "source": [
    "import numpy as np\n",
    "import pandas as pd\n",
    "import seaborn as sns\n",
    "from matplotlib import pyplot as plt\n",
    "%matplotlib inline"
   ]
  },
  {
   "cell_type": "code",
   "execution_count": 2,
   "id": "89008786",
   "metadata": {},
   "outputs": [],
   "source": [
    "from sklearn.model_selection import train_test_split\n",
    "from sklearn.linear_model import ARDRegression\n",
    "from sklearn.linear_model import BayesianRidge\n",
    "from sklearn.linear_model import LinearRegression"
   ]
  },
  {
   "cell_type": "markdown",
   "id": "a24e0714",
   "metadata": {},
   "source": [
    "## Loading the dataset"
   ]
  },
  {
   "cell_type": "code",
   "execution_count": 3,
   "id": "ecf4df3a",
   "metadata": {},
   "outputs": [],
   "source": [
    "car_df = pd.read_csv('car data.csv')"
   ]
  },
  {
   "cell_type": "code",
   "execution_count": 4,
   "id": "75ad091f",
   "metadata": {},
   "outputs": [
    {
     "data": {
      "text/html": [
       "<div>\n",
       "<style scoped>\n",
       "    .dataframe tbody tr th:only-of-type {\n",
       "        vertical-align: middle;\n",
       "    }\n",
       "\n",
       "    .dataframe tbody tr th {\n",
       "        vertical-align: top;\n",
       "    }\n",
       "\n",
       "    .dataframe thead th {\n",
       "        text-align: right;\n",
       "    }\n",
       "</style>\n",
       "<table border=\"1\" class=\"dataframe\">\n",
       "  <thead>\n",
       "    <tr style=\"text-align: right;\">\n",
       "      <th></th>\n",
       "      <th>Car_Name</th>\n",
       "      <th>company</th>\n",
       "      <th>Year</th>\n",
       "      <th>Selling_Price</th>\n",
       "      <th>Present_Price</th>\n",
       "      <th>Kms_Driven</th>\n",
       "      <th>Fuel_Type</th>\n",
       "      <th>Seller_Type</th>\n",
       "      <th>Transmission</th>\n",
       "      <th>Owner</th>\n",
       "    </tr>\n",
       "  </thead>\n",
       "  <tbody>\n",
       "    <tr>\n",
       "      <th>0</th>\n",
       "      <td>ritz</td>\n",
       "      <td>maruti suzuki</td>\n",
       "      <td>2014</td>\n",
       "      <td>3.35</td>\n",
       "      <td>5.59</td>\n",
       "      <td>27000</td>\n",
       "      <td>Petrol</td>\n",
       "      <td>Dealer</td>\n",
       "      <td>Manual</td>\n",
       "      <td>0</td>\n",
       "    </tr>\n",
       "    <tr>\n",
       "      <th>1</th>\n",
       "      <td>sx4</td>\n",
       "      <td>maruti suzuki</td>\n",
       "      <td>2013</td>\n",
       "      <td>4.75</td>\n",
       "      <td>9.54</td>\n",
       "      <td>43000</td>\n",
       "      <td>Diesel</td>\n",
       "      <td>Dealer</td>\n",
       "      <td>Manual</td>\n",
       "      <td>0</td>\n",
       "    </tr>\n",
       "    <tr>\n",
       "      <th>2</th>\n",
       "      <td>ciaz</td>\n",
       "      <td>maruti suzuki</td>\n",
       "      <td>2017</td>\n",
       "      <td>7.25</td>\n",
       "      <td>9.85</td>\n",
       "      <td>6900</td>\n",
       "      <td>Petrol</td>\n",
       "      <td>Dealer</td>\n",
       "      <td>Manual</td>\n",
       "      <td>0</td>\n",
       "    </tr>\n",
       "    <tr>\n",
       "      <th>3</th>\n",
       "      <td>wagon r</td>\n",
       "      <td>maruti suzuki</td>\n",
       "      <td>2011</td>\n",
       "      <td>2.85</td>\n",
       "      <td>4.15</td>\n",
       "      <td>5200</td>\n",
       "      <td>Petrol</td>\n",
       "      <td>Dealer</td>\n",
       "      <td>Manual</td>\n",
       "      <td>0</td>\n",
       "    </tr>\n",
       "    <tr>\n",
       "      <th>4</th>\n",
       "      <td>swift</td>\n",
       "      <td>maruti suzuki</td>\n",
       "      <td>2014</td>\n",
       "      <td>4.60</td>\n",
       "      <td>6.87</td>\n",
       "      <td>42450</td>\n",
       "      <td>Diesel</td>\n",
       "      <td>Dealer</td>\n",
       "      <td>Manual</td>\n",
       "      <td>0</td>\n",
       "    </tr>\n",
       "    <tr>\n",
       "      <th>...</th>\n",
       "      <td>...</td>\n",
       "      <td>...</td>\n",
       "      <td>...</td>\n",
       "      <td>...</td>\n",
       "      <td>...</td>\n",
       "      <td>...</td>\n",
       "      <td>...</td>\n",
       "      <td>...</td>\n",
       "      <td>...</td>\n",
       "      <td>...</td>\n",
       "    </tr>\n",
       "    <tr>\n",
       "      <th>296</th>\n",
       "      <td>city</td>\n",
       "      <td>honda</td>\n",
       "      <td>2016</td>\n",
       "      <td>9.50</td>\n",
       "      <td>11.60</td>\n",
       "      <td>33988</td>\n",
       "      <td>Diesel</td>\n",
       "      <td>Dealer</td>\n",
       "      <td>Manual</td>\n",
       "      <td>0</td>\n",
       "    </tr>\n",
       "    <tr>\n",
       "      <th>297</th>\n",
       "      <td>brio</td>\n",
       "      <td>honda</td>\n",
       "      <td>2015</td>\n",
       "      <td>4.00</td>\n",
       "      <td>5.90</td>\n",
       "      <td>60000</td>\n",
       "      <td>Petrol</td>\n",
       "      <td>Dealer</td>\n",
       "      <td>Manual</td>\n",
       "      <td>0</td>\n",
       "    </tr>\n",
       "    <tr>\n",
       "      <th>298</th>\n",
       "      <td>city</td>\n",
       "      <td>honda</td>\n",
       "      <td>2009</td>\n",
       "      <td>3.35</td>\n",
       "      <td>11.00</td>\n",
       "      <td>87934</td>\n",
       "      <td>Petrol</td>\n",
       "      <td>Dealer</td>\n",
       "      <td>Manual</td>\n",
       "      <td>0</td>\n",
       "    </tr>\n",
       "    <tr>\n",
       "      <th>299</th>\n",
       "      <td>city</td>\n",
       "      <td>honda</td>\n",
       "      <td>2017</td>\n",
       "      <td>11.50</td>\n",
       "      <td>12.50</td>\n",
       "      <td>9000</td>\n",
       "      <td>Diesel</td>\n",
       "      <td>Dealer</td>\n",
       "      <td>Manual</td>\n",
       "      <td>0</td>\n",
       "    </tr>\n",
       "    <tr>\n",
       "      <th>300</th>\n",
       "      <td>brio</td>\n",
       "      <td>honda</td>\n",
       "      <td>2016</td>\n",
       "      <td>5.30</td>\n",
       "      <td>5.90</td>\n",
       "      <td>5464</td>\n",
       "      <td>Petrol</td>\n",
       "      <td>Dealer</td>\n",
       "      <td>Manual</td>\n",
       "      <td>0</td>\n",
       "    </tr>\n",
       "  </tbody>\n",
       "</table>\n",
       "<p>301 rows × 10 columns</p>\n",
       "</div>"
      ],
      "text/plain": [
       "    Car_Name        company  Year  Selling_Price  Present_Price  Kms_Driven  \\\n",
       "0       ritz  maruti suzuki  2014           3.35           5.59       27000   \n",
       "1        sx4  maruti suzuki  2013           4.75           9.54       43000   \n",
       "2       ciaz  maruti suzuki  2017           7.25           9.85        6900   \n",
       "3    wagon r  maruti suzuki  2011           2.85           4.15        5200   \n",
       "4      swift  maruti suzuki  2014           4.60           6.87       42450   \n",
       "..       ...            ...   ...            ...            ...         ...   \n",
       "296     city          honda  2016           9.50          11.60       33988   \n",
       "297     brio          honda  2015           4.00           5.90       60000   \n",
       "298     city          honda  2009           3.35          11.00       87934   \n",
       "299     city          honda  2017          11.50          12.50        9000   \n",
       "300     brio          honda  2016           5.30           5.90        5464   \n",
       "\n",
       "    Fuel_Type Seller_Type Transmission  Owner  \n",
       "0      Petrol      Dealer       Manual      0  \n",
       "1      Diesel      Dealer       Manual      0  \n",
       "2      Petrol      Dealer       Manual      0  \n",
       "3      Petrol      Dealer       Manual      0  \n",
       "4      Diesel      Dealer       Manual      0  \n",
       "..        ...         ...          ...    ...  \n",
       "296    Diesel      Dealer       Manual      0  \n",
       "297    Petrol      Dealer       Manual      0  \n",
       "298    Petrol      Dealer       Manual      0  \n",
       "299    Diesel      Dealer       Manual      0  \n",
       "300    Petrol      Dealer       Manual      0  \n",
       "\n",
       "[301 rows x 10 columns]"
      ]
     },
     "execution_count": 4,
     "metadata": {},
     "output_type": "execute_result"
    }
   ],
   "source": [
    "car_df"
   ]
  },
  {
   "cell_type": "code",
   "execution_count": 5,
   "id": "811cd199",
   "metadata": {},
   "outputs": [
    {
     "name": "stdout",
     "output_type": "stream",
     "text": [
      "<class 'pandas.core.frame.DataFrame'>\n",
      "RangeIndex: 301 entries, 0 to 300\n",
      "Data columns (total 10 columns):\n",
      " #   Column         Non-Null Count  Dtype  \n",
      "---  ------         --------------  -----  \n",
      " 0   Car_Name       301 non-null    object \n",
      " 1   company        301 non-null    object \n",
      " 2   Year           301 non-null    int64  \n",
      " 3   Selling_Price  301 non-null    float64\n",
      " 4   Present_Price  301 non-null    float64\n",
      " 5   Kms_Driven     301 non-null    int64  \n",
      " 6   Fuel_Type      301 non-null    object \n",
      " 7   Seller_Type    301 non-null    object \n",
      " 8   Transmission   301 non-null    object \n",
      " 9   Owner          301 non-null    int64  \n",
      "dtypes: float64(2), int64(3), object(5)\n",
      "memory usage: 23.6+ KB\n"
     ]
    }
   ],
   "source": [
    "car_df.info()"
   ]
  },
  {
   "cell_type": "markdown",
   "id": "5a89bf2b",
   "metadata": {},
   "source": [
    "The size of the dataset is (301 * 10) and there are no missing values."
   ]
  },
  {
   "cell_type": "markdown",
   "id": "60de22c6",
   "metadata": {},
   "source": [
    "## Visualizing the data"
   ]
  },
  {
   "cell_type": "code",
   "execution_count": 6,
   "id": "30ab0d5c",
   "metadata": {},
   "outputs": [
    {
     "name": "stdout",
     "output_type": "stream",
     "text": [
      "honda            70\n",
      "hyndai           50\n",
      "maruti suzuki    50\n",
      "other            39\n",
      "toyota           36\n",
      "bajaj            25\n",
      "hero             15\n",
      "tvs               8\n",
      "yamaha            8\n",
      "Name: company, dtype: int64\n"
     ]
    },
    {
     "data": {
      "text/plain": [
       "<AxesSubplot:title={'center':'Number of cars of different manufacturers'}, ylabel='count'>"
      ]
     },
     "execution_count": 6,
     "metadata": {},
     "output_type": "execute_result"
    },
    {
     "data": {
      "image/png": "[encoded data removed]",
      "text/plain": [
       "<Figure size 864x432 with 1 Axes>"
      ]
     },
     "metadata": {
      "needs_background": "light"
     },
     "output_type": "display_data"
    }
   ],
   "source": [
    "print(car_df['company'].value_counts())\n",
    "plt.figure(figsize = (12,6))\n",
    "plt.title('Number of cars of different manufacturers')\n",
    "sns.countplot(x=sorted(car_df['company']))"
   ]
  },
  {
   "cell_type": "code",
   "execution_count": 7,
   "id": "bcfc76f8",
   "metadata": {},
   "outputs": [
    {
     "name": "stdout",
     "output_type": "stream",
     "text": [
      "Manual       261\n",
      "Automatic     40\n",
      "Name: Transmission, dtype: int64\n"
     ]
    },
    {
     "data": {
      "text/plain": [
       "<AxesSubplot:title={'center':'Number of cars based on transmission type'}, xlabel='Transmission', ylabel='count'>"
      ]
     },
     "execution_count": 7,
     "metadata": {},
     "output_type": "execute_result"
    },
    {
     "data": {
      "image/png": "[encoded data removed]",
      "text/plain": [
       "<Figure size 432x288 with 1 Axes>"
      ]
     },
     "metadata": {
      "needs_background": "light"
     },
     "output_type": "display_data"
    }
   ],
   "source": [
    "print(car_df['Transmission'].value_counts())\n",
    "plt.title('Number of cars based on transmission type')\n",
    "sns.countplot(x=car_df['Transmission'])"
   ]
  },
  {
   "cell_type": "code",
   "execution_count": 8,
   "id": "944dea71",
   "metadata": {},
   "outputs": [
    {
     "name": "stdout",
     "output_type": "stream",
     "text": [
      "Petrol    239\n",
      "Diesel     60\n",
      "CNG         2\n",
      "Name: Fuel_Type, dtype: int64\n"
     ]
    },
    {
     "data": {
      "text/plain": [
       "<AxesSubplot:title={'center':'Number of cars based on fuel type'}, xlabel='Fuel_Type', ylabel='count'>"
      ]
     },
     "execution_count": 8,
     "metadata": {},
     "output_type": "execute_result"
    },
    {
     "data": {
      "image/png": "[encoded data removed]",
      "text/plain": [
       "<Figure size 432x288 with 1 Axes>"
      ]
     },
     "metadata": {
      "needs_background": "light"
     },
     "output_type": "display_data"
    }
   ],
   "source": [
    "print(car_df['Fuel_Type'].value_counts())\n",
    "plt.title('Number of cars based on fuel type')\n",
    "sns.countplot(x=car_df['Fuel_Type'])"
   ]
  },
  {
   "cell_type": "code",
   "execution_count": 9,
   "id": "23c0d5d8",
   "metadata": {},
   "outputs": [
    {
     "name": "stdout",
     "output_type": "stream",
     "text": [
      "Dealer        195\n",
      "Individual    106\n",
      "Name: Seller_Type, dtype: int64\n"
     ]
    },
    {
     "data": {
      "text/plain": [
       "<AxesSubplot:title={'center':'Number of cars based on seller type'}, xlabel='Seller_Type', ylabel='count'>"
      ]
     },
     "execution_count": 9,
     "metadata": {},
     "output_type": "execute_result"
    },
    {
     "data": {
      "image/png": "[encoded data removed]",
      "text/plain": [
       "<Figure size 432x288 with 1 Axes>"
      ]
     },
     "metadata": {
      "needs_background": "light"
     },
     "output_type": "display_data"
    }
   ],
   "source": [
    "print(car_df['Seller_Type'].value_counts())\n",
    "plt.title('Number of cars based on seller type')\n",
    "sns.countplot(x=car_df['Seller_Type'])"
   ]
  },
  {
   "cell_type": "code",
   "execution_count": 10,
   "id": "eb54afb7",
   "metadata": {},
   "outputs": [],
   "source": [
    "car_df['Fuel_Type'] = car_df['Fuel_Type'].map({'Petrol': 1, 'Diesel': 2, 'CNG': 3})\n",
    "car_df['Transmission'] = car_df['Transmission'].map({'Manual': 1, 'Automatic': 2})\n",
    "car_df['Seller_Type'] = car_df['Seller_Type'].map({'Individual': 1, 'Dealer': 2})"
   ]
  },
  {
   "cell_type": "code",
   "execution_count": 11,
   "id": "b76cb619",
   "metadata": {},
   "outputs": [
    {
     "data": {
      "text/plain": [
       "Text(0, 0.5, 'Cars sold')"
      ]
     },
     "execution_count": 11,
     "metadata": {},
     "output_type": "execute_result"
    },
    {
     "data": {
      "image/png": "[encoded data removed]",
      "text/plain": [
       "<Figure size 864x432 with 1 Axes>"
      ]
     },
     "metadata": {
      "needs_background": "light"
     },
     "output_type": "display_data"
    }
   ],
   "source": [
    "keys = [year for year, df in car_df.groupby([\"Year\"])]\n",
    "plt.figure(figsize = (12,6))\n",
    "plt.title('Number of cars sold in different years')\n",
    "sns.barplot(x=keys, y=car_df.groupby([\"Year\"]).count()[\"Car_Name\"])\n",
    "plt.xlabel(\"Year\")\n",
    "plt.ylabel(\"Cars sold\")"
   ]
  },
  {
   "cell_type": "markdown",
   "id": "ea41001d",
   "metadata": {},
   "source": [
    "- Most number of cars were sold in the year 2015"
   ]
  },
  {
   "cell_type": "code",
   "execution_count": 12,
   "id": "130c0d7b",
   "metadata": {},
   "outputs": [
    {
     "name": "stdout",
     "output_type": "stream",
     "text": [
      "0      40.071556\n",
      "1      50.209644\n",
      "2      26.395939\n",
      "3      31.325301\n",
      "4      33.042213\n",
      "         ...    \n",
      "296    18.103448\n",
      "297    32.203390\n",
      "298    69.545455\n",
      "299     8.000000\n",
      "300    10.169492\n",
      "Name: PriceDecreasePer, Length: 301, dtype: float64\n"
     ]
    },
    {
     "data": {
      "image/png": "[encoded data removed]",
      "text/plain": [
       "<Figure size 864x864 with 1 Axes>"
      ]
     },
     "metadata": {
      "needs_background": "light"
     },
     "output_type": "display_data"
    }
   ],
   "source": [
    "car_df['PriceDecreasePer'] = (car_df['Present_Price'] - car_df['Selling_Price']) / (car_df['Present_Price']) * 100\n",
    "print(car_df['PriceDecreasePer'])\n",
    "plt.figure(figsize=(12, 12))\n",
    "sns.barplot(data=car_df, x='company', y='PriceDecreasePer')\n",
    "plt.ylabel('Percentage decrease in selling price')\n",
    "car_df.drop(columns=['PriceDecreasePer'], axis=1, inplace=True)"
   ]
  },
  {
   "cell_type": "markdown",
   "id": "fdcadc32",
   "metadata": {},
   "source": [
    "- Toyota suffers the highest price decrease in selling price while hyundai and yamaha have the least percentage decrease."
   ]
  },
  {
   "cell_type": "markdown",
   "id": "15bf6caf",
   "metadata": {},
   "source": [
    "## Correlation between data fields"
   ]
  },
  {
   "cell_type": "code",
   "execution_count": 13,
   "id": "1ad9db68",
   "metadata": {},
   "outputs": [
    {
     "data": {
      "text/html": [
       "<div>\n",
       "<style scoped>\n",
       "    .dataframe tbody tr th:only-of-type {\n",
       "        vertical-align: middle;\n",
       "    }\n",
       "\n",
       "    .dataframe tbody tr th {\n",
       "        vertical-align: top;\n",
       "    }\n",
       "\n",
       "    .dataframe thead th {\n",
       "        text-align: right;\n",
       "    }\n",
       "</style>\n",
       "<table border=\"1\" class=\"dataframe\">\n",
       "  <thead>\n",
       "    <tr style=\"text-align: right;\">\n",
       "      <th></th>\n",
       "      <th>Year</th>\n",
       "      <th>Selling_Price</th>\n",
       "      <th>Present_Price</th>\n",
       "      <th>Kms_Driven</th>\n",
       "      <th>Fuel_Type</th>\n",
       "      <th>Seller_Type</th>\n",
       "      <th>Transmission</th>\n",
       "      <th>Owner</th>\n",
       "    </tr>\n",
       "  </thead>\n",
       "  <tbody>\n",
       "    <tr>\n",
       "      <th>Year</th>\n",
       "      <td>1.000000</td>\n",
       "      <td>0.236141</td>\n",
       "      <td>-0.047584</td>\n",
       "      <td>-0.524342</td>\n",
       "      <td>0.053643</td>\n",
       "      <td>0.039896</td>\n",
       "      <td>-0.000394</td>\n",
       "      <td>-0.182104</td>\n",
       "    </tr>\n",
       "    <tr>\n",
       "      <th>Selling_Price</th>\n",
       "      <td>0.236141</td>\n",
       "      <td>1.000000</td>\n",
       "      <td>0.878983</td>\n",
       "      <td>0.029187</td>\n",
       "      <td>0.509467</td>\n",
       "      <td>0.550724</td>\n",
       "      <td>0.367128</td>\n",
       "      <td>-0.088344</td>\n",
       "    </tr>\n",
       "    <tr>\n",
       "      <th>Present_Price</th>\n",
       "      <td>-0.047584</td>\n",
       "      <td>0.878983</td>\n",
       "      <td>1.000000</td>\n",
       "      <td>0.203647</td>\n",
       "      <td>0.440415</td>\n",
       "      <td>0.512030</td>\n",
       "      <td>0.348715</td>\n",
       "      <td>0.008057</td>\n",
       "    </tr>\n",
       "    <tr>\n",
       "      <th>Kms_Driven</th>\n",
       "      <td>-0.524342</td>\n",
       "      <td>0.029187</td>\n",
       "      <td>0.203647</td>\n",
       "      <td>1.000000</td>\n",
       "      <td>0.166801</td>\n",
       "      <td>0.101419</td>\n",
       "      <td>0.162510</td>\n",
       "      <td>0.089216</td>\n",
       "    </tr>\n",
       "    <tr>\n",
       "      <th>Fuel_Type</th>\n",
       "      <td>0.053643</td>\n",
       "      <td>0.509467</td>\n",
       "      <td>0.440415</td>\n",
       "      <td>0.166801</td>\n",
       "      <td>1.000000</td>\n",
       "      <td>0.352415</td>\n",
       "      <td>0.080466</td>\n",
       "      <td>-0.055705</td>\n",
       "    </tr>\n",
       "    <tr>\n",
       "      <th>Seller_Type</th>\n",
       "      <td>0.039896</td>\n",
       "      <td>0.550724</td>\n",
       "      <td>0.512030</td>\n",
       "      <td>0.101419</td>\n",
       "      <td>0.352415</td>\n",
       "      <td>1.000000</td>\n",
       "      <td>0.063240</td>\n",
       "      <td>-0.124269</td>\n",
       "    </tr>\n",
       "    <tr>\n",
       "      <th>Transmission</th>\n",
       "      <td>-0.000394</td>\n",
       "      <td>0.367128</td>\n",
       "      <td>0.348715</td>\n",
       "      <td>0.162510</td>\n",
       "      <td>0.080466</td>\n",
       "      <td>0.063240</td>\n",
       "      <td>1.000000</td>\n",
       "      <td>0.050316</td>\n",
       "    </tr>\n",
       "    <tr>\n",
       "      <th>Owner</th>\n",
       "      <td>-0.182104</td>\n",
       "      <td>-0.088344</td>\n",
       "      <td>0.008057</td>\n",
       "      <td>0.089216</td>\n",
       "      <td>-0.055705</td>\n",
       "      <td>-0.124269</td>\n",
       "      <td>0.050316</td>\n",
       "      <td>1.000000</td>\n",
       "    </tr>\n",
       "  </tbody>\n",
       "</table>\n",
       "</div>"
      ],
      "text/plain": [
       "                   Year  Selling_Price  Present_Price  Kms_Driven  Fuel_Type  \\\n",
       "Year           1.000000       0.236141      -0.047584   -0.524342   0.053643   \n",
       "Selling_Price  0.236141       1.000000       0.878983    0.029187   0.509467   \n",
       "Present_Price -0.047584       0.878983       1.000000    0.203647   0.440415   \n",
       "Kms_Driven    -0.524342       0.029187       0.203647    1.000000   0.166801   \n",
       "Fuel_Type      0.053643       0.509467       0.440415    0.166801   1.000000   \n",
       "Seller_Type    0.039896       0.550724       0.512030    0.101419   0.352415   \n",
       "Transmission  -0.000394       0.367128       0.348715    0.162510   0.080466   \n",
       "Owner         -0.182104      -0.088344       0.008057    0.089216  -0.055705   \n",
       "\n",
       "               Seller_Type  Transmission     Owner  \n",
       "Year              0.039896     -0.000394 -0.182104  \n",
       "Selling_Price     0.550724      0.367128 -0.088344  \n",
       "Present_Price     0.512030      0.348715  0.008057  \n",
       "Kms_Driven        0.101419      0.162510  0.089216  \n",
       "Fuel_Type         0.352415      0.080466 -0.055705  \n",
       "Seller_Type       1.000000      0.063240 -0.124269  \n",
       "Transmission      0.063240      1.000000  0.050316  \n",
       "Owner            -0.124269      0.050316  1.000000  "
      ]
     },
     "execution_count": 13,
     "metadata": {},
     "output_type": "execute_result"
    }
   ],
   "source": [
    "car_df.corr()"
   ]
  },
  {
   "cell_type": "code",
   "execution_count": 14,
   "id": "4a920231",
   "metadata": {},
   "outputs": [
    {
     "data": {
      "text/plain": [
       "<AxesSubplot:>"
      ]
     },
     "execution_count": 14,
     "metadata": {},
     "output_type": "execute_result"
    },
    {
     "data": {
      "image/png": "[encoded data removed]",
      "text/plain": [
       "<Figure size 720x576 with 2 Axes>"
      ]
     },
     "metadata": {
      "needs_background": "light"
     },
     "output_type": "display_data"
    }
   ],
   "source": [
    "plt.figure(figsize=(10, 8))\n",
    "sns.heatmap(car_df.corr(), annot=True, vmin=-1.0, vmax=1.0, cmap='YlGnBu')"
   ]
  },
  {
   "cell_type": "markdown",
   "id": "261e043c",
   "metadata": {},
   "source": [
    "- Year has highly negative correlation with Kms_Driven which means that older cars have been driven more.\n",
    "- Selling_Price and Present_Price are highly correlated with Transmission, Fuel_Type, Seller_Type. They both are highly correlatedd as well."
   ]
  },
  {
   "cell_type": "markdown",
   "id": "bfeff980",
   "metadata": {},
   "source": [
    "## Making a ML model"
   ]
  },
  {
   "cell_type": "code",
   "execution_count": 15,
   "id": "644ac3eb",
   "metadata": {},
   "outputs": [
    {
     "name": "stdout",
     "output_type": "stream",
     "text": [
      "ARDRegression()\n",
      "Accuracy = 92.29% \n",
      "\n",
      "BayesianRidge()\n",
      "Accuracy = 92.18% \n",
      "\n",
      "LinearRegression()\n",
      "Accuracy = 92.39% \n",
      "\n"
     ]
    }
   ],
   "source": [
    "x = car_df[['Present_Price', 'Seller_Type', 'Fuel_Type', 'Transmission', 'Year']]\n",
    "y = car_df['Selling_Price']\n",
    "x_train, x_test, y_train, y_test = train_test_split(x, y, train_size=0.25, test_size=0.75, shuffle=True)\n",
    "\n",
    "classifiers = [\n",
    "    ARDRegression(),\n",
    "    BayesianRidge(),\n",
    "    LinearRegression()]\n",
    "\n",
    "for clf in classifiers:\n",
    "    print(clf)\n",
    "    clf.fit(x_train, y_train)\n",
    "    print('Accuracy = %.2f%%' %(clf.score(x_train, y_train) * 100), '\\n')"
   ]
  },
  {
   "cell_type": "markdown",
   "id": "75317880",
   "metadata": {},
   "source": [
    "### Calculating importance of different data fields"
   ]
  },
  {
   "cell_type": "code",
   "execution_count": 16,
   "id": "f73e8e24",
   "metadata": {
    "scrolled": true
   },
   "outputs": [
    {
     "name": "stdout",
     "output_type": "stream",
     "text": [
      "Feature:   Present_Price; Importance: 0.4863\n",
      "Feature:     Seller_Type; Importance: 0.5955\n",
      "Feature:       Fuel_Type; Importance: 0.9723\n",
      "Feature:    Transmission; Importance: 1.6966\n",
      "Feature:            Year; Importance: 0.4654\n"
     ]
    },
    {
     "data": {
      "text/plain": [
       "<AxesSubplot:>"
      ]
     },
     "execution_count": 16,
     "metadata": {},
     "output_type": "execute_result"
    },
    {
     "data": {
      "image/png": "[encoded data removed]",
      "text/plain": [
       "<Figure size 432x288 with 1 Axes>"
      ]
     },
     "metadata": {
      "needs_background": "light"
     },
     "output_type": "display_data"
    }
   ],
   "source": [
    "clf = LinearRegression()\n",
    "clf.fit(x_train, y_train)\n",
    "labels = ['Present_Price', 'Seller_Type', 'Fuel_Type', 'Transmission', 'Year']\n",
    "importance = clf.coef_\n",
    "for i in range(len(labels)):\n",
    "    print('Feature: %15s; Importance: %.4f' %(labels[i], importance[i]))\n",
    "sns.barplot(x=importance, y=labels)"
   ]
  }
 ],
 "metadata": {
  "kernelspec": {
   "display_name": "Python 3",
   "language": "python",
   "name": "python3"
  },
  "language_info": {
   "codemirror_mode": {
    "name": "ipython",
    "version": 3
   },
   "file_extension": ".py",
   "mimetype": "text/x-python",
   "name": "python",
   "nbconvert_exporter": "python",
   "pygments_lexer": "ipython3",
   "version": "3.9.5"
  }
 },
 "nbformat": 4,
 "nbformat_minor": 5
}
